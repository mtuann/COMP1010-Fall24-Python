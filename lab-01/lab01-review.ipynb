{
 "cells": [
  {
   "cell_type": "markdown",
   "metadata": {},
   "source": [
    "# Lab 1: Introduction to Programming in Python\n",
    "\n",
    "Welcome to the first lab of your Python programming journey! In this lab, we will cover the basics of Python syntax, variables, data types, and simple input/output operations. These concepts are the foundation of programming and will be used throughout this course.\n",
    "\n",
    "---\n",
    "\n",
    "## Objectives:\n",
    "- Understand basic Python syntax\n",
    "- Learn how to use variables and data types\n",
    "- Practice basic input and output operations\n",
    "- Write your first Python program\n",
    "\n",
    "---\n",
    "\n"
   ]
  },
  {
   "cell_type": "markdown",
   "metadata": {},
   "source": [
    "## 1. Introduction to Python\n",
    "\n",
    "Python is a high-level, interpreted programming language known for its simplicity and readability. Let's get started by writing and running our first Python program.\n"
   ]
  },
  {
   "cell_type": "code",
   "execution_count": 4,
   "metadata": {},
   "outputs": [
    {
     "name": "stdout",
     "output_type": "stream",
     "text": [
      "Hello, World!\n"
     ]
    }
   ],
   "source": [
    "# This is a comment\n",
    "# Let's print 'Hello, World!' to the console\n",
    "print(\"Hello, World!\")"
   ]
  },
  {
   "cell_type": "markdown",
   "metadata": {},
   "source": [
    "In Python, we use the `print()` function to display output. The text inside the quotation marks will be printed to the console."
   ]
  },
  {
   "cell_type": "markdown",
   "metadata": {},
   "source": [
    "## 2. Variables and Data Types\n",
    "\n",
    "A **variable** is a container that holds data. In Python, you don't need to declare the type of a variable explicitly. Let's see how to define and use variables.\n",
    "\n",
    "### Example:"
   ]
  },
  {
   "cell_type": "code",
   "execution_count": 1,
   "metadata": {},
   "outputs": [
    {
     "name": "stdout",
     "output_type": "stream",
     "text": [
      "Name: Alice\n",
      "Age: 20\n",
      "Is a student: True\n"
     ]
    }
   ],
   "source": [
    "# Assigning values to variables\n",
    "name = \"Alice\"\n",
    "age = 20\n",
    "is_student = True\n",
    "\n",
    "# Printing variable values\n",
    "print(\"Name:\", name)\n",
    "print(\"Age:\", age)\n",
    "print(\"Is a student:\", is_student)\n"
   ]
  },
  {
   "cell_type": "markdown",
   "metadata": {},
   "source": [
    "### Task 1:\n",
    "- Create variables to store your name, age, and whether you are a student or not.\n",
    "- Print them using the `print()` function.\n",
    "\n",
    "### Explanation:\n",
    "- `name` is a **string** (a sequence of characters).\n",
    "- `age` is an **integer** (a whole number).\n",
    "- `is_student` is a **boolean** (True or False).\n"
   ]
  },
  {
   "cell_type": "markdown",
   "metadata": {},
   "source": [
    "## 3. Basic Data Types in Python\n",
    "\n",
    "Python has several built-in data types that are commonly used in programming. These include:\n",
    "\n",
    "- **int**: Whole numbers (e.g., `5`, `100`)\n",
    "- **float**: Numbers with decimal points (e.g., `3.14`, `0.001`)\n",
    "- **str**: Strings, which are sequences of characters (e.g., `\"hello\"`, `\"123\"`)\n",
    "- **bool**: Boolean values (`True`, `False`)\n",
    "\n",
    "### Example:\n"
   ]
  },
  {
   "cell_type": "code",
   "execution_count": 2,
   "metadata": {},
   "outputs": [
    {
     "name": "stdout",
     "output_type": "stream",
     "text": [
      "10 3.14 Python True\n"
     ]
    }
   ],
   "source": [
    "# Different data types\n",
    "x = 10          # int\n",
    "y = 3.14        # float\n",
    "z = \"Python\"    # str\n",
    "flag = True     # bool\n",
    "\n",
    "print(x, y, z, flag)"
   ]
  },
  {
   "cell_type": "markdown",
   "metadata": {},
   "source": [
    "### Task 2:\n",
    "- Create variables for an integer, a floating-point number, a string, and a boolean.\n",
    "- Print the values of these variables."
   ]
  },
  {
   "cell_type": "markdown",
   "metadata": {},
   "source": [
    "## 4. Simple Input/Output Operations\n",
    "\n",
    "Python can take input from the user using the `input()` function. The `input()` function reads a line from the user and returns it as a string.\n",
    "\n",
    "### Example:\n"
   ]
  },
  {
   "cell_type": "code",
   "execution_count": 4,
   "metadata": {},
   "outputs": [
    {
     "name": "stdout",
     "output_type": "stream",
     "text": [
      "Hello, Nguyen Minh Tuan!\n"
     ]
    }
   ],
   "source": [
    "# Taking input from the user\n",
    "name = input(\"Enter your name: \")\n",
    "print(\"Hello, \" + name + \"!\")\n"
   ]
  },
  {
   "cell_type": "markdown",
   "metadata": {},
   "source": [
    "The `input()` function always returns a string, so if you want to convert it to another data type (like an integer), you need to cast it using the appropriate function (e.g., `int()`, `float()`).\n",
    "\n",
    "### Example:\n"
   ]
  },
  {
   "cell_type": "code",
   "execution_count": 6,
   "metadata": {},
   "outputs": [
    {
     "name": "stdout",
     "output_type": "stream",
     "text": [
      "You are 18 years old.\n"
     ]
    }
   ],
   "source": [
    "# Taking numerical input\n",
    "age = int(input(\"Enter your age: \"))\n",
    "print(\"You are\", age, \"years old.\")\n"
   ]
  },
  {
   "cell_type": "markdown",
   "metadata": {},
   "source": [
    "### Task 3:\n",
    "- Ask the user for their name and age.\n",
    "- Print a message that says, \"Hello, [name]! You are [age] years old.\""
   ]
  },
  {
   "cell_type": "markdown",
   "metadata": {},
   "source": [
    "## 5. Basic Arithmetic Operations\n",
    "\n",
    "Python can perform arithmetic operations like addition, subtraction, multiplication, and division. Here's a quick overview of the basic operators:\n",
    "\n",
    "- `+` : Addition\n",
    "- `-` : Subtraction\n",
    "- `*` : Multiplication\n",
    "- `/` : Division\n",
    "- `//` : Floor division (returns the quotient)\n",
    "- `%` : Modulus (returns the remainder)\n",
    "- `**` : Exponentiation\n",
    "\n",
    "### Example:\n"
   ]
  },
  {
   "cell_type": "code",
   "execution_count": 9,
   "metadata": {},
   "outputs": [
    {
     "name": "stdout",
     "output_type": "stream",
     "text": [
      "Addition: 13\n",
      "Subtraction: 7\n",
      "Multiplication: 30\n",
      "Division: 3.3333333333333335\n",
      "Floor Division: 3\n",
      "Modulus: 1\n",
      "Exponentiation: 1000\n"
     ]
    }
   ],
   "source": [
    "# Arithmetic operations\n",
    "a = 10\n",
    "b = 3\n",
    "\n",
    "print(\"Addition:\", a + b)\n",
    "print(\"Subtraction:\", a - b)\n",
    "print(\"Multiplication:\", a * b)\n",
    "print(\"Division:\", a / b)\n",
    "print(\"Floor Division:\", a // b)\n",
    "print(\"Modulus:\", a % b)\n",
    "print(\"Exponentiation:\", a ** b)"
   ]
  },
  {
   "cell_type": "markdown",
   "metadata": {},
   "source": [
    "### Task 4:\n",
    "- Ask the user for two numbers and perform the following operations: addition, subtraction, multiplication, and division.\n",
    "- Display the results to the user."
   ]
  },
  {
   "cell_type": "markdown",
   "metadata": {},
   "source": [
    "## 6. Conclusion\n",
    "\n",
    "In this lab, you learned how to:\n",
    "- Write basic Python programs.\n",
    "- Use variables to store and manipulate data.\n",
    "- Take user input and display output.\n",
    "- Perform arithmetic operations.\n",
    "\n",
    "Continue practicing by experimenting with different data types and writing small programs to reinforce what you've learned.\n"
   ]
  },
  {
   "cell_type": "markdown",
   "metadata": {},
   "source": [
    "## Homework:\n",
    "1. Write a program that asks the user for the length and width of a rectangle and then calculates and prints the area and perimeter.\n",
    "2. Write a program that asks the user for a number and checks if it is even or odd."
   ]
  }
 ],
 "metadata": {
  "kernelspec": {
   "display_name": "ml",
   "language": "python",
   "name": "python3"
  },
  "language_info": {
   "codemirror_mode": {
    "name": "ipython",
    "version": 3
   },
   "file_extension": ".py",
   "mimetype": "text/x-python",
   "name": "python",
   "nbconvert_exporter": "python",
   "pygments_lexer": "ipython3",
   "version": "3.8.16"
  }
 },
 "nbformat": 4,
 "nbformat_minor": 2
}
