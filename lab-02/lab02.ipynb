{
 "cells": [
  {
   "cell_type": "markdown",
   "metadata": {},
   "source": [
    "# Lab 02: Expressions, Variables, and Logical Operators\n",
    "\n",
    "Welcome to Lab 2! In this lab, we will explore expressions, variables, and logical operators in Python. By the end of this lab, you'll be able to write more complex programs with conditions and logic.\n",
    "\n",
    "---\n",
    "\n",
    "## Objectives:\n",
    "- Understand how to use expressions in Python\n",
    "- Learn the different logical operators\n",
    "- Use conditions to control program flow\n",
    "- Practice with variables and expressions\n",
    "\n",
    "---\n"
   ]
  },
  {
   "cell_type": "markdown",
   "metadata": {},
   "source": [
    "## 1. Variables and Expressions\n",
    "\n",
    "In Python, an **expression** is a combination of values and operators that evaluates to a value. Let's see some examples.\n",
    "\n",
    "### Example:\n"
   ]
  },
  {
   "cell_type": "code",
   "execution_count": 1,
   "metadata": {},
   "outputs": [
    {
     "name": "stdout",
     "output_type": "stream",
     "text": [
      "The result is: 30\n"
     ]
    }
   ],
   "source": [
    "# Basic arithmetic expression\n",
    "x = 10\n",
    "y = 5\n",
    "\n",
    "result = (x + y) * 2  # Parentheses are used to control the order of operations\n",
    "print(\"The result is:\", result)"
   ]
  },
  {
   "cell_type": "markdown",
   "metadata": {},
   "source": [
    "### Task 1:\n",
    "- Define two variables `a` and `b`.\n",
    "- Write an expression that adds these two numbers and multiplies the result by 3.\n",
    "- Print the result."
   ]
  },
  {
   "cell_type": "markdown",
   "metadata": {},
   "source": [
    "## 2. Logical Operators\n",
    "\n",
    "Python supports the following logical operators:\n",
    "- `and`: Returns `True` if both statements are true\n",
    "- `or`: Returns `True` if one of the statements is true\n",
    "- `not`: Reverses the result, returns `False` if the result is true\n",
    "\n",
    "These operators are used with **Boolean** values (`True` or `False`).\n",
    "\n",
    "### Example:"
   ]
  },
  {
   "cell_type": "code",
   "execution_count": 4,
   "metadata": {},
   "outputs": [
    {
     "name": "stdout",
     "output_type": "stream",
     "text": [
      "a and b: False\n",
      "a or b: True\n",
      "not a: False\n"
     ]
    }
   ],
   "source": [
    "# Using logical operators\n",
    "a = True\n",
    "b = False\n",
    "\n",
    "print(\"a and b:\", a and b)  # False because both are not True\n",
    "print(\"a or b:\", a or b)    # True because one is True\n",
    "print(\"not a:\", not a)      # False because a is True"
   ]
  },
  {
   "cell_type": "markdown",
   "metadata": {},
   "source": [
    "### Task 2:\n",
    "- Create two variables with Boolean values.\n",
    "- Print the result of `and`, `or`, and `not` operations on these values.\n"
   ]
  },
  {
   "cell_type": "markdown",
   "metadata": {},
   "source": [
    "## 3. Comparison Operators\n",
    "\n",
    "Comparison operators are used to compare two values. They return either `True` or `False`.\n",
    "\n",
    "- `==`: Equal to\n",
    "- `!=`: Not equal to\n",
    "- `>`: Greater than\n",
    "- `<`: Less than\n",
    "- `>=`: Greater than or equal to\n",
    "- `<=`: Less than or equal to\n",
    "\n",
    "### Example:"
   ]
  },
  {
   "cell_type": "code",
   "execution_count": 6,
   "metadata": {},
   "outputs": [
    {
     "name": "stdout",
     "output_type": "stream",
     "text": [
      "x == y: False\n",
      "x != y: True\n",
      "x > y: False\n",
      "x < y: True\n"
     ]
    }
   ],
   "source": [
    "# Comparison operators\n",
    "x = 10\n",
    "y = 20\n",
    "\n",
    "print(\"x == y:\", x == y)  # False because 10 is not equal to 20\n",
    "print(\"x != y:\", x != y)  # True because 10 is not equal to 20\n",
    "print(\"x > y:\", x > y)    # False because 10 is less than 20\n",
    "print(\"x < y:\", x < y)    # True because 10 is less than 20"
   ]
  },
  {
   "cell_type": "markdown",
   "metadata": {},
   "source": [
    "### Task 3:\n",
    "- Write a Python program that asks the user for two numbers.\n",
    "- Compare the two numbers using the comparison operators and print the results."
   ]
  },
  {
   "cell_type": "code",
   "execution_count": null,
   "metadata": {},
   "outputs": [],
   "source": [
    "\n",
    "## 4. Combining Logical and Comparison Operators\n",
    "\n",
    "You can combine logical and comparison operators to write more complex expressions.\n",
    "\n",
    "### Example:"
   ]
  },
  {
   "cell_type": "code",
   "execution_count": 9,
   "metadata": {},
   "outputs": [
    {
     "name": "stdout",
     "output_type": "stream",
     "text": [
      "You can drive!\n"
     ]
    }
   ],
   "source": [
    "# Combining logical and comparison operators\n",
    "age = 25\n",
    "has_license = True\n",
    "\n",
    "if age >= 18 and has_license:\n",
    "    print(\"You can drive!\")\n",
    "else:\n",
    "    print(\"You cannot drive.\")"
   ]
  },
  {
   "cell_type": "markdown",
   "metadata": {},
   "source": [
    "### Task 4:\n",
    "- Write a program that checks if a person is eligible to vote.\n",
    "- Ask the user for their age and check if they are 18 or older."
   ]
  },
  {
   "cell_type": "markdown",
   "metadata": {},
   "source": [
    "## 5. Conditional Statements (if, elif, else)\n",
    "\n",
    "Conditional statements allow us to execute a block of code only if a certain condition is true. Python supports the following conditional statements:\n",
    "- `if`: Executes a block of code if the condition is true\n",
    "- `elif`: Checks another condition if the previous condition is false\n",
    "- `else`: Executes a block of code if all the previous conditions are false\n",
    "\n",
    "### Example:"
   ]
  },
  {
   "cell_type": "code",
   "execution_count": 12,
   "metadata": {},
   "outputs": [
    {
     "name": "stdout",
     "output_type": "stream",
     "text": [
      "It's warm.\n"
     ]
    }
   ],
   "source": [
    "# Using if, elif, and else\n",
    "temperature = 30\n",
    "\n",
    "if temperature > 35:\n",
    "    print(\"It's hot!\")\n",
    "elif temperature > 20:\n",
    "    print(\"It's warm.\")\n",
    "else:\n",
    "    print(\"It's cold.\")"
   ]
  },
  {
   "cell_type": "markdown",
   "metadata": {},
   "source": [
    "### Task 5:\n",
    "- Write a program that takes the temperature as input from the user.\n",
    "- Print \"Hot\" if the temperature is above 35, \"Warm\" if it is between 20 and 35, and \"Cold\" if it is 20 or below."
   ]
  },
  {
   "cell_type": "markdown",
   "metadata": {},
   "source": [
    "## 6. Practical Application: Even or Odd Checker\n",
    "\n",
    "Let's combine what we've learned into a practical example. We will write a program that checks whether a number is even or odd.\n",
    "\n",
    "### Example:\n"
   ]
  },
  {
   "cell_type": "code",
   "execution_count": 13,
   "metadata": {},
   "outputs": [
    {
     "name": "stdout",
     "output_type": "stream",
     "text": [
      "10 is even.\n"
     ]
    }
   ],
   "source": [
    "# Checking if a number is even or odd\n",
    "num = int(input(\"Enter a number: \"))\n",
    "\n",
    "if num % 2 == 0:\n",
    "    print(num, \"is even.\")\n",
    "else:\n",
    "    print(num, \"is odd.\")"
   ]
  },
  {
   "cell_type": "markdown",
   "metadata": {},
   "source": [
    "### Task 6:\n",
    "- Modify the above program to check if a number is divisible by both 2 and 3.\n",
    "- Print an appropriate message for each case."
   ]
  },
  {
   "cell_type": "markdown",
   "metadata": {},
   "source": [
    "\n",
    "## 7. Conclusion\n",
    "\n",
    "In this lab, you learned how to:\n",
    "- Work with logical operators and comparison operators.\n",
    "- Write conditional statements using `if`, `elif`, and `else`.\n",
    "- Combine multiple conditions to control the flow of your program.\n",
    "\n",
    "Keep practicing these concepts, as they form the foundation for decision-making in Python programming.\n",
    "\n",
    "---\n",
    "\n",
    "## Homework:\n",
    "1. Write a program that takes three numbers as input from the user and prints the largest one.\n",
    "2. Write a program that checks whether a year is a leap year or not. A leap year is divisible by 4 but not divisible by 100 unless it is also divisible by 400.\n",
    "\n",
    "---\n",
    "\n",
    "**End of Lab 2**\n",
    "\n",
    "---\n",
    "\n",
    "### Key Concepts to Emphasize:\n",
    "1. **Expressions**: Demonstrate how Python evaluates expressions.\n",
    "2. **Logical Operators**: Teach students how to use `and`, `or`, and `not` to build logical conditions.\n",
    "3. **Comparison Operators**: Show how to compare values and make decisions.\n",
    "4. **Conditional Statements**: Emphasize the importance of control flow using `if`, `elif`, and `else`."
   ]
  }
 ],
 "metadata": {
  "kernelspec": {
   "display_name": "ml",
   "language": "python",
   "name": "python3"
  },
  "language_info": {
   "codemirror_mode": {
    "name": "ipython",
    "version": 3
   },
   "file_extension": ".py",
   "mimetype": "text/x-python",
   "name": "python",
   "nbconvert_exporter": "python",
   "pygments_lexer": "ipython3",
   "version": "3.8.16"
  }
 },
 "nbformat": 4,
 "nbformat_minor": 2
}
