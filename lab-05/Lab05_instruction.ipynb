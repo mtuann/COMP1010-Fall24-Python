{
 "cells": [
  {
   "cell_type": "markdown",
   "metadata": {},
   "source": [
    "# Lab 5: Conditionals and Flow Control\n",
    "\n",
    "# Objectives\n",
    "- Understand how to use conditional statements in Python.\n",
    "- Learn about flow control mechanisms such as `if`, `elif`, and `else`.\n",
    "- Practice writing programs that utilize conditionals.\n",
    "\n",
    "# Conditional statements\n",
    "\n",
    "There are situations in real life when we need to do some specific task and based on some specific conditions, we decide what we should do next. Similarly, there comes a situation in programming where a specific task is to be performed if a specific condition is True. In such cases, conditional statements can be used. "
   ]
  },
  {
   "cell_type": "markdown",
   "metadata": {},
   "source": [
    "## `if` Statement in Python\n",
    "\n",
    "If the simple code of block is to be performed if the condition holds true then the `if` statement is used. Here the condition mentioned holds then the code of the block runs otherwise not.\n",
    "\n",
    "```python\n",
    "# Syntax\n",
    "if condition:           \n",
    "    # Statements to execute if condition is true\n",
    "```"
   ]
  },
  {
   "cell_type": "markdown",
   "metadata": {},
   "source": [
    "## Basic Conditional Check with if Statement\n",
    "\n",
    "In this example, an `if` statement checks if 10 is greater than 5. If true, it prints \"10 greater than 5\"; regardless, it then prints \"Program ended\" as the next statement, indicating the program flow."
   ]
  },
  {
   "cell_type": "code",
   "execution_count": null,
   "metadata": {},
   "outputs": [],
   "source": [
    "# if statement example\n",
    "if 10 > 5:\n",
    "    print(\"10 greater than 5\")\n",
    "\n",
    "print(\"Program ended\")"
   ]
  },
  {
   "cell_type": "markdown",
   "metadata": {},
   "source": [
    "## `if-else` Statement in Python\n",
    "\n",
    "In conditional `if` Statement the additional block of code is merged as $\\texttt{else}$ statement which is performed when if condition is false.\n",
    "\n",
    "```python\n",
    "# Syntax:\n",
    "if (condition):\n",
    "    # Executes this block if condition is true\n",
    "else:\n",
    "    # Executes this block if condition is false\n",
    "```"
   ]
  },
  {
   "cell_type": "markdown",
   "metadata": {},
   "source": [
    "**Example: Handling Conditional Scenarios with `if-else`**\n",
    "\n",
    "In this example, the code assigns the value 3 to variable x and uses an `if-else` statement to check if x is equal to 4. If true, it prints \"Yes\"; otherwise, it prints \"No\", demonstrating a conditional branching structure."
   ]
  },
  {
   "cell_type": "code",
   "execution_count": 1,
   "metadata": {},
   "outputs": [
    {
     "name": "stdout",
     "output_type": "stream",
     "text": [
      "No\n"
     ]
    }
   ],
   "source": [
    "# if-else statement example\n",
    "x = 3\n",
    "if x == 4:\n",
    "    print(\"Yes\")\n",
    "else:\n",
    "    print(\"No\")"
   ]
  },
  {
   "cell_type": "code",
   "execution_count": 2,
   "metadata": {},
   "outputs": [
    {
     "name": "stdout",
     "output_type": "stream",
     "text": [
      "letter is A\n"
     ]
    }
   ],
   "source": [
    "# if-else chain statement\n",
    "letter = \"A\"\n",
    "\n",
    "if letter == \"B\":\n",
    "    print(\"letter is B\")\n",
    "else:\n",
    "    if letter == \"C\":\n",
    "        print(\"letter is C\")\n",
    "    else:\n",
    "        if letter == \"A\":\n",
    "            print(\"letter is A\")\n",
    "        else:\n",
    "            print(\"letter isn't A, B and C\")"
   ]
  },
  {
   "cell_type": "markdown",
   "metadata": {},
   "source": [
    "## Nested `if` Statement\n",
    "\n",
    "`if` statement can also be checked inside other if statement. This conditional statement is called a nested if statement. This means that inner if condition will be checked only if outer if condition is true and by this, we can see multiple conditions to be satisfied.\n",
    "\n",
    "```python\n",
    "# Syntax\n",
    "if (condition1):\n",
    "        # Executes when condition1 is true\n",
    "        if (condition2):\n",
    "            # Executes when condition2 is true\n",
    "        # if Block is end here\n",
    "    # if Block is end here\n",
    "```"
   ]
  },
  {
   "cell_type": "code",
   "execution_count": 3,
   "metadata": {},
   "outputs": [
    {
     "name": "stdout",
     "output_type": "stream",
     "text": [
      "Bigger than 5\n",
      "Between 5 and 15\n"
     ]
    }
   ],
   "source": [
    "# Nested if statement example\n",
    "num = 10\n",
    "\n",
    "if num > 5:\n",
    "    print(\"Bigger than 5\")\n",
    "\n",
    "    if num <= 15:\n",
    "        print(\"Between 5 and 15\")"
   ]
  },
  {
   "cell_type": "markdown",
   "metadata": {},
   "source": [
    "## `if-elif` Statement in Python\n",
    "\n",
    "The `if-elif` statement is shortcut of `if-else` chain. While using `if-elif` statement at the end $\\texttt{else}$ block is added which is performed if none of the above `if-elif` statement is true.\n",
    "\n",
    "```python\n",
    "# Syntax:\n",
    "if (condition):\n",
    "    # statement\n",
    "elif (condition):\n",
    "    # statement\n",
    "else:\n",
    "    # statement\n",
    "```"
   ]
  },
  {
   "cell_type": "code",
   "execution_count": 4,
   "metadata": {},
   "outputs": [
    {
     "name": "stdout",
     "output_type": "stream",
     "text": [
      "letter is A\n"
     ]
    }
   ],
   "source": [
    "# if-elif statement example\n",
    "letter = \"A\"\n",
    "\n",
    "if letter == \"B\":\n",
    "    print(\"letter is B\")\n",
    "\n",
    "elif letter == \"C\":\n",
    "    print(\"letter is C\")\n",
    "\n",
    "elif letter == \"A\":\n",
    "    print(\"letter is A\")\n",
    "\n",
    "else:\n",
    "    print(\"letter isn't A, B or C\")"
   ]
  }
 ],
 "metadata": {
  "kernelspec": {
   "display_name": "base",
   "language": "python",
   "name": "python3"
  },
  "language_info": {
   "codemirror_mode": {
    "name": "ipython",
    "version": 3
   },
   "file_extension": ".py",
   "mimetype": "text/x-python",
   "name": "python",
   "nbconvert_exporter": "python",
   "pygments_lexer": "ipython3",
   "version": "3.12.4"
  }
 },
 "nbformat": 4,
 "nbformat_minor": 2
}
